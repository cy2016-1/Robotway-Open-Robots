{
 "cells": [
  {
   "cell_type": "code",
   "execution_count": 70,
   "id": "0003ca2e-e7f3-4ab0-8436-77c0e5afad70",
   "metadata": {},
   "outputs": [],
   "source": [
    "from robodyno import Robot\n",
    "from robodyno.nodes import MotorFactory\n",
    "robot = Robot()\n",
    "motor = robot.add_device('motor0', MotorFactory(), 0x13, reduction=-44)"
   ]
  },
  {
   "cell_type": "code",
   "execution_count": 71,
   "id": "a2cb1e9f-0151-42a2-b7a8-454640621354",
   "metadata": {},
   "outputs": [
    {
     "name": "stdout",
     "output_type": "stream",
     "text": [
      "1654764637.439048\n"
     ]
    },
    {
     "data": {
      "text/plain": [
       "{'state': 1,\n",
       " 'error': 0,\n",
       " 'motor_err': 0,\n",
       " 'encoder_err': 0,\n",
       " 'controller_err': 0,\n",
       " 'control_mode': 3,\n",
       " 'input_mode': 3,\n",
       " 'timestamp': 1654764636.623098}"
      ]
     },
     "execution_count": 71,
     "metadata": {},
     "output_type": "execute_result"
    }
   ],
   "source": [
    "motor.status()"
   ]
  },
  {
   "cell_type": "code",
   "execution_count": 72,
   "id": "a13714a2-3430-4c46-88ea-1517bde50dd9",
   "metadata": {},
   "outputs": [
    {
     "data": {
      "text/plain": [
       "{'device_uuid': 1, 'main_version': 0, 'sub_version': 3}"
      ]
     },
     "execution_count": 72,
     "metadata": {},
     "output_type": "execute_result"
    }
   ],
   "source": [
    "motor.get_api_ver(1)"
   ]
  },
  {
   "cell_type": "code",
   "execution_count": 73,
   "id": "301e9f9a-369b-40cb-a40e-c2ec8146286a",
   "metadata": {},
   "outputs": [],
   "source": [
    "motor.enable()"
   ]
  },
  {
   "cell_type": "code",
   "execution_count": 78,
   "id": "e5f9fe7b-6ac4-4f43-b1d9-13a28e20ce28",
   "metadata": {},
   "outputs": [],
   "source": [
    "motor.disable()"
   ]
  },
  {
   "cell_type": "markdown",
   "id": "d2f86eff-5751-4b46-a127-8ba5af2f2760",
   "metadata": {},
   "source": [
    "### 获取电机电压温度"
   ]
  },
  {
   "cell_type": "code",
   "execution_count": 55,
   "id": "f05c03e9-9463-4d21-a221-c5fecfdae591",
   "metadata": {},
   "outputs": [
    {
     "data": {
      "text/plain": [
       "38.167912"
      ]
     },
     "execution_count": 55,
     "metadata": {},
     "output_type": "execute_result"
    }
   ],
   "source": [
    "#motor.get_vbus(1)\n",
    "motor.get_temperature(1)"
   ]
  },
  {
   "cell_type": "markdown",
   "id": "13f883f5-fc9d-4272-9a5e-562fcd1bc022",
   "metadata": {},
   "source": [
    "### 读取电机位置、速度、力矩"
   ]
  },
  {
   "cell_type": "code",
   "execution_count": 63,
   "id": "a60045b1-7fc7-4a32-b316-335d19a1d3a7",
   "metadata": {},
   "outputs": [
    {
     "data": {
      "text/plain": [
       "(0.034686994167862091, -0.0043578999655842082, -6.32177734375)"
      ]
     },
     "execution_count": 63,
     "metadata": {},
     "output_type": "execute_result"
    }
   ],
   "source": [
    "motor.get_status(1)"
   ]
  },
  {
   "cell_type": "markdown",
   "id": "25a068d2-5d70-40c6-925e-8fb75e4330d9",
   "metadata": {},
   "source": [
    "### 读取PID"
   ]
  },
  {
   "cell_type": "code",
   "execution_count": 59,
   "id": "47a7f4bf-80aa-4f48-a005-afd0f8f83802",
   "metadata": {},
   "outputs": [
    {
     "data": {
      "text/plain": [
       "(100.0, 0.020004, 0.0050011)"
      ]
     },
     "execution_count": 59,
     "metadata": {},
     "output_type": "execute_result"
    }
   ],
   "source": [
    "motor.get_controller_pid(1)"
   ]
  },
  {
   "cell_type": "markdown",
   "id": "b4e78f88-7e4e-4bdc-8fc6-0efc3cc47a42",
   "metadata": {},
   "source": [
    "### 设置PID"
   ]
  },
  {
   "cell_type": "code",
   "execution_count": 58,
   "id": "297ed4fd-ddab-485e-a2a3-de488076cba8",
   "metadata": {},
   "outputs": [],
   "source": [
    "motor.set_controller_pid(100,0.02,0.005)"
   ]
  },
  {
   "cell_type": "markdown",
   "id": "57d9e9d3-d438-4cf8-b9ab-c55be91fe791",
   "metadata": {},
   "source": [
    "### 读取电机控制模式"
   ]
  },
  {
   "cell_type": "code",
   "execution_count": 60,
   "id": "af81c9c5-ccc6-4613-8e0c-cfca22c62968",
   "metadata": {},
   "outputs": [
    {
     "data": {
      "text/plain": [
       "(3, 1)"
      ]
     },
     "execution_count": 60,
     "metadata": {},
     "output_type": "execute_result"
    }
   ],
   "source": [
    "motor.get_controller_modes(1)"
   ]
  },
  {
   "cell_type": "code",
   "execution_count": 62,
   "id": "add049de-da5f-4fe3-8f54-787252a98475",
   "metadata": {},
   "outputs": [
    {
     "data": {
      "text/plain": [
       "10.0"
      ]
     },
     "execution_count": 62,
     "metadata": {},
     "output_type": "execute_result"
    }
   ],
   "source": [
    "motor.get_filter_mode_bandwidth()"
   ]
  },
  {
   "cell_type": "code",
   "execution_count": 20,
   "id": "ea09e6de-b089-4773-baec-d3e3564e1c4a",
   "metadata": {},
   "outputs": [],
   "source": [
    "motor.set_limits(30, 10)"
   ]
  },
  {
   "cell_type": "code",
   "execution_count": 21,
   "id": "a9c28deb-d6e1-42b5-b7a1-4dcec8ce456a",
   "metadata": {},
   "outputs": [],
   "source": [
    "motor.set_vel_limit(3.14)"
   ]
  },
  {
   "cell_type": "code",
   "execution_count": 61,
   "id": "91e1a41b-f66a-49f9-b00b-f7fc404eafb4",
   "metadata": {},
   "outputs": [],
   "source": [
    "motor.position_filter_mode(10)"
   ]
  },
  {
   "cell_type": "markdown",
   "id": "f43af078-dd7d-4a7e-a3e6-89b3d2e9b65d",
   "metadata": {},
   "source": [
    "### 设置位置"
   ]
  },
  {
   "cell_type": "code",
   "execution_count": 77,
   "id": "9f664655-9321-43ac-bebd-541ad51bf68e",
   "metadata": {},
   "outputs": [],
   "source": [
    "motor.set_pos(0.008)"
   ]
  },
  {
   "cell_type": "code",
   "execution_count": null,
   "id": "63ebab1a-d6c0-4cb7-bff1-42c3adc45fe8",
   "metadata": {},
   "outputs": [],
   "source": []
  },
  {
   "cell_type": "code",
   "execution_count": null,
   "id": "6ce364d8-d4c6-4715-b7fb-ee43e0276f3f",
   "metadata": {},
   "outputs": [],
   "source": []
  },
  {
   "cell_type": "code",
   "execution_count": null,
   "id": "63eb9dc0-3d62-442f-9646-e6a40e09b1a2",
   "metadata": {},
   "outputs": [],
   "source": []
  },
  {
   "cell_type": "code",
   "execution_count": null,
   "id": "74ca6c66-fdfa-4269-9d01-8d842f4e045d",
   "metadata": {},
   "outputs": [],
   "source": []
  }
 ],
 "metadata": {
  "kernelspec": {
   "display_name": "Python 3",
   "language": "python",
   "name": "python3"
  },
  "language_info": {
   "codemirror_mode": {
    "name": "ipython",
    "version": 3
   },
   "file_extension": ".py",
   "mimetype": "text/x-python",
   "name": "python",
   "nbconvert_exporter": "python",
   "pygments_lexer": "ipython3",
   "version": "3.6.9"
  }
 },
 "nbformat": 4,
 "nbformat_minor": 5
}
