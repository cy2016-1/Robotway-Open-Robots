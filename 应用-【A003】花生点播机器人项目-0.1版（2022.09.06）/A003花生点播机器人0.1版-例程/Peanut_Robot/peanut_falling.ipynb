{
 "cells": [
  {
   "cell_type": "code",
   "execution_count": 6,
   "id": "6c047330-c9d9-4b1e-a8a0-909c0b16cd3f",
   "metadata": {},
   "outputs": [],
   "source": [
    "from robodyno import Robot\n",
    "from robodyno.nodes import MotorFactory\n",
    "robot = Robot()\n",
    "motor0 = robot.add_device('motor0', MotorFactory(), 0x12, reduction=-44)\n",
    "motor1 = robot.add_device('motor1', MotorFactory(), 0x13, reduction=-44)"
   ]
  },
  {
   "cell_type": "code",
   "execution_count": 15,
   "id": "10a37393-b67e-4461-8a30-d52db10123ee",
   "metadata": {},
   "outputs": [
    {
     "name": "stdout",
     "output_type": "stream",
     "text": [
      "1654763393.4547954\n",
      "1654763393.4554403\n"
     ]
    },
    {
     "data": {
      "text/plain": [
       "{'state': 8,\n",
       " 'error': 0,\n",
       " 'motor_err': 0,\n",
       " 'encoder_err': 0,\n",
       " 'controller_err': 0,\n",
       " 'control_mode': 3,\n",
       " 'input_mode': 3,\n",
       " 'timestamp': 1654763392.698621}"
      ]
     },
     "execution_count": 15,
     "metadata": {},
     "output_type": "execute_result"
    }
   ],
   "source": [
    "motor0.status()\n",
    "motor1.status()"
   ]
  },
  {
   "cell_type": "markdown",
   "id": "6293551e-f0d5-4e30-bd46-183190bd371a",
   "metadata": {},
   "source": [
    "## 电机开关"
   ]
  },
  {
   "cell_type": "code",
   "execution_count": 12,
   "id": "aca116d6-bcde-4fe4-95ed-a7986e8e0872",
   "metadata": {},
   "outputs": [],
   "source": [
    "motor0.enable()\n",
    "motor1.enable()"
   ]
  },
  {
   "cell_type": "code",
   "execution_count": 11,
   "id": "3b7a1de6-dfb6-4bb2-829c-130db51e95ab",
   "metadata": {},
   "outputs": [],
   "source": [
    "motor0.disable()\n",
    "motor1.disable()"
   ]
  },
  {
   "cell_type": "markdown",
   "id": "72b93484-9186-4a0f-9688-0482c1deb3a6",
   "metadata": {},
   "source": [
    "## 获取电机基本参数"
   ]
  },
  {
   "cell_type": "code",
   "execution_count": 13,
   "id": "30ca2977-8ec5-4187-9467-9338b401e3e7",
   "metadata": {},
   "outputs": [
    {
     "data": {
      "text/plain": [
       "(0.15086474301872696, -0.0021789499827921041, 0.11975860595703125)"
      ]
     },
     "execution_count": 13,
     "metadata": {},
     "output_type": "execute_result"
    }
   ],
   "source": [
    "motor0.get_status(1)"
   ]
  },
  {
   "cell_type": "code",
   "execution_count": 14,
   "id": "9627aaca-2343-4763-aa3a-0e1e6a27a112",
   "metadata": {},
   "outputs": [
    {
     "data": {
      "text/plain": [
       "(-0.087645028678931675, 0.0010894749913960521, -6.11767578125)"
      ]
     },
     "execution_count": 14,
     "metadata": {},
     "output_type": "execute_result"
    }
   ],
   "source": [
    "motor1.get_status(1)"
   ]
  },
  {
   "cell_type": "markdown",
   "id": "66aa3c6f-5bd4-423c-8817-924e15b35eee",
   "metadata": {},
   "source": [
    "## 设置电机滤波模式"
   ]
  },
  {
   "cell_type": "code",
   "execution_count": null,
   "id": "36b11653-5cdb-4263-b82e-92dbd2d9454b",
   "metadata": {},
   "outputs": [],
   "source": [
    "motor0.position_filter_mode(10)\n",
    "motor1.position_filter_mode(10)"
   ]
  },
  {
   "cell_type": "markdown",
   "id": "c1255c64-e8e0-4bb9-a86b-bbeeb2265319",
   "metadata": {},
   "source": [
    "## 读取电机模式"
   ]
  },
  {
   "cell_type": "code",
   "execution_count": 16,
   "id": "f8c65035-9407-414b-aca6-ae3c51378ff5",
   "metadata": {},
   "outputs": [
    {
     "data": {
      "text/plain": [
       "(3, 3)"
      ]
     },
     "execution_count": 16,
     "metadata": {},
     "output_type": "execute_result"
    }
   ],
   "source": [
    "motor0.get_controller_modes(1)"
   ]
  },
  {
   "cell_type": "code",
   "execution_count": 17,
   "id": "2fad012e-4be7-4ded-87dd-baa4f8237478",
   "metadata": {},
   "outputs": [
    {
     "data": {
      "text/plain": [
       "(3, 3)"
      ]
     },
     "execution_count": 17,
     "metadata": {},
     "output_type": "execute_result"
    }
   ],
   "source": [
    "motor0.get_controller_modes(1)"
   ]
  },
  {
   "cell_type": "code",
   "execution_count": null,
   "id": "6ed9ef8e-897e-4108-b14a-879f7a750fad",
   "metadata": {},
   "outputs": [],
   "source": []
  },
  {
   "cell_type": "code",
   "execution_count": null,
   "id": "f0301b4d-fe48-4d30-be1a-a59018e91ffa",
   "metadata": {},
   "outputs": [],
   "source": []
  }
 ],
 "metadata": {
  "kernelspec": {
   "display_name": "Python 3",
   "language": "python",
   "name": "python3"
  },
  "language_info": {
   "codemirror_mode": {
    "name": "ipython",
    "version": 3
   },
   "file_extension": ".py",
   "mimetype": "text/x-python",
   "name": "python",
   "nbconvert_exporter": "python",
   "pygments_lexer": "ipython3",
   "version": "3.6.9"
  }
 },
 "nbformat": 4,
 "nbformat_minor": 5
}
