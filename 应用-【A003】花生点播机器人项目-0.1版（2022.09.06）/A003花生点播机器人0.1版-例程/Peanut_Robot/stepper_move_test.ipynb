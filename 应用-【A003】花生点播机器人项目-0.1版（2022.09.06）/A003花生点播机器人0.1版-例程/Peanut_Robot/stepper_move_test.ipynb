{
 "cells": [
  {
   "cell_type": "code",
   "execution_count": 8,
   "id": "a05e844e-3662-4d6c-b1ac-0109344406b6",
   "metadata": {},
   "outputs": [],
   "source": [
    "from protobot.can_bus import Robot\n",
    "from protobot.can_bus.nodes import StepperBoardFactory\n",
    "robot = Robot()\n",
    "stepper_board = robot.add_device('stepper', StepperBoardFactory(), 0x22, reduction = 10)"
   ]
  },
  {
   "cell_type": "code",
   "execution_count": 2,
   "id": "ecdc73e4-6764-4c4c-bde0-80ffcaa0feaf",
   "metadata": {},
   "outputs": [],
   "source": [
    "stepper_board.enable()"
   ]
  },
  {
   "cell_type": "code",
   "execution_count": 8,
   "id": "ac0e15a0-2a90-4361-a436-585a8f50e80d",
   "metadata": {},
   "outputs": [],
   "source": [
    "stepper_board.disable()"
   ]
  },
  {
   "cell_type": "code",
   "execution_count": 6,
   "id": "1a0e52ba-6ba0-4d16-bd18-ee8c597a0613",
   "metadata": {},
   "outputs": [],
   "source": [
    "stepper_board.stop()"
   ]
  },
  {
   "cell_type": "code",
   "execution_count": 3,
   "id": "2c053f97-6578-4efb-959a-e35f36800cb4",
   "metadata": {},
   "outputs": [
    {
     "data": {
      "text/plain": [
       "0.0"
      ]
     },
     "execution_count": 3,
     "metadata": {},
     "output_type": "execute_result"
    }
   ],
   "source": [
    "stepper_board.get_pos()"
   ]
  },
  {
   "cell_type": "code",
   "execution_count": 4,
   "id": "f5d8cb1e-eb6f-4ee0-834c-471b9ee8a909",
   "metadata": {},
   "outputs": [
    {
     "data": {
      "text/plain": [
       "0.0"
      ]
     },
     "execution_count": 4,
     "metadata": {},
     "output_type": "execute_result"
    }
   ],
   "source": [
    "stepper_board.get_vel()"
   ]
  },
  {
   "cell_type": "code",
   "execution_count": 5,
   "id": "9b363a60-641c-49f2-a40c-1f4501e22871",
   "metadata": {},
   "outputs": [],
   "source": [
    "stepper_board.set_vel(-1.14)"
   ]
  },
  {
   "cell_type": "code",
   "execution_count": 7,
   "id": "8316fd7f-83d6-443e-a8b3-e43c296b5579",
   "metadata": {},
   "outputs": [],
   "source": [
    "stepper_board.set_pos(-1.0)"
   ]
  },
  {
   "cell_type": "code",
   "execution_count": null,
   "id": "770a6a8c-25e8-4c20-93eb-a4b17ce8c2c9",
   "metadata": {},
   "outputs": [],
   "source": []
  }
 ],
 "metadata": {
  "kernelspec": {
   "display_name": "Python 3",
   "language": "python",
   "name": "python3"
  },
  "language_info": {
   "codemirror_mode": {
    "name": "ipython",
    "version": 3
   },
   "file_extension": ".py",
   "mimetype": "text/x-python",
   "name": "python",
   "nbconvert_exporter": "python",
   "pygments_lexer": "ipython3",
   "version": "3.6.9"
  }
 },
 "nbformat": 4,
 "nbformat_minor": 5
}
