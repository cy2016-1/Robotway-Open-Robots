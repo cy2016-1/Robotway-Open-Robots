{
 "cells": [
  {
   "cell_type": "code",
   "execution_count": null,
   "id": "a05e844e-3662-4d6c-b1ac-0109344406b6",
   "metadata": {},
   "outputs": [],
   "source": [
    "from protobot.can_bus import Robot\n",
    "from protobot.can_bus.nodes import StepperBoardFactory\n",
    "robot = Robot()\n",
    "stepper_board = robot.add_device('stepper', StepperBoardFactory(), 0x22, reduction = 10)"
   ]
  },
  {
   "cell_type": "code",
   "execution_count": null,
   "id": "ecdc73e4-6764-4c4c-bde0-80ffcaa0feaf",
   "metadata": {},
   "outputs": [],
   "source": []
  },
  {
   "cell_type": "code",
   "execution_count": null,
   "id": "ac0e15a0-2a90-4361-a436-585a8f50e80d",
   "metadata": {},
   "outputs": [],
   "source": []
  },
  {
   "cell_type": "code",
   "execution_count": null,
   "id": "1a0e52ba-6ba0-4d16-bd18-ee8c597a0613",
   "metadata": {},
   "outputs": [],
   "source": []
  },
  {
   "cell_type": "code",
   "execution_count": null,
   "id": "2c053f97-6578-4efb-959a-e35f36800cb4",
   "metadata": {},
   "outputs": [],
   "source": []
  },
  {
   "cell_type": "code",
   "execution_count": null,
   "id": "f5d8cb1e-eb6f-4ee0-834c-471b9ee8a909",
   "metadata": {},
   "outputs": [],
   "source": []
  },
  {
   "cell_type": "code",
   "execution_count": null,
   "id": "9b363a60-641c-49f2-a40c-1f4501e22871",
   "metadata": {},
   "outputs": [],
   "source": []
  }
 ],
 "metadata": {
  "kernelspec": {
   "display_name": "Python 3",
   "language": "python",
   "name": "python3"
  },
  "language_info": {
   "codemirror_mode": {
    "name": "ipython",
    "version": 3
   },
   "file_extension": ".py",
   "mimetype": "text/x-python",
   "name": "python",
   "nbconvert_exporter": "python",
   "pygments_lexer": "ipython3",
   "version": "3.6.9"
  }
 },
 "nbformat": 4,
 "nbformat_minor": 5
}
